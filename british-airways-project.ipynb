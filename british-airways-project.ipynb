{
 "cells": [
  {
   "cell_type": "markdown",
   "metadata": {},
   "source": [
    "# British Airways Review Project  \n",
    "Source of dataset: https://www.airlinequality.com/airline-reviews/british-airways/  \n",
    "\n",
    "### Project Context  \n",
    "British Airways (BA) is the flag carrier airline of the United Kingdom (UK). Every day, thousands of BA flights arrive to and depart from the UK, carrying customers across the world. Whether it’s for holidays, work or any other reason, the end-to-end process of scheduling, planning, boarding, fuelling, transporting, landing, and continuously running flights on time, efficiently and with top-class customer service is a huge task with many highly important responsibilities.  \n",
    "\n",
    "As a data scientist at BA, it will be your job to apply your analytical skills to influence real life multi-million-pound decisions from day one, making a tangible impact on the business as your recommendations, tools and models drive key business decisions, reduce costs and increase revenue.  \n",
    "\n",
    "Customers who book a flight with BA will experience many interaction points with the BA brand. Understanding a customer's feelings, needs, and feedback is crucial for any business, including BA.  \n",
    "\n",
    "### Project Requirement  \n",
    "1. Scraping and collecting customer feedback and reviewing data from a third-party source   \n",
    "2. Cleaning the collected dataset  \n",
    "3. Analysing this data to present any insights, through:\n",
    "    - Descriptive statistic\n",
    "    - Topic Modeling\n",
    "    - Sentiment Analysis\n",
    "4. Presenting the findings\n",
    "\n",
    "### Project Planning\n",
    "1. Scraping & collecting customer feedback data has already done in `scrape_script.py`\n",
    "2. Exploratory Data Analysis\n",
    "    - Data Structure\n",
    "    - Data Quality\n",
    "    - Content\n",
    "3. Data Cleaning\n",
    "4. Feature Engineering\n",
    "5. Modeling  \n",
    "\n",
    "\n",
    "### Dataset Column\n",
    "`id`, `review`, `rating`, `header`, `sub_header`, `author`, `time_published`, `aircraft`, `type_of_traveller`, `seat_type`, `route`, `date_flown`, `seat_comfort`, `cabin_staff_service`, `food_&_beverages`, `ground_service`, `value_for_money`, `recommended`, `inflight_entertainment`, `wifi_&_connectivity`, `verified`, `rating_only`, `city`, `type_aircraft`"
   ]
  },
  {
   "cell_type": "markdown",
   "metadata": {},
   "source": [
    "---  \n",
    "---  "
   ]
  },
  {
   "cell_type": "markdown",
   "metadata": {},
   "source": [
    "### Basic Numerical Feature Exploration"
   ]
  },
  {
   "cell_type": "code",
   "execution_count": 1,
   "metadata": {},
   "outputs": [],
   "source": [
    "import numpy as np\n",
    "import pandas as pd\n",
    "import matplotlib.pyplot as plt\n",
    "import seaborn as sns\n",
    "import regex as re\n",
    "import string\n",
    "import pickle\n",
    "\n",
    "from sklearn.feature_extraction.text import CountVectorizer\n",
    "from wordcloud import WordCloud\n",
    "from sklearn.feature_extraction import text\n",
    "from textblob import TextBlob\n",
    "from gensim import matutils, models\n",
    "import scipy.sparse\n",
    "\n",
    "sns.set()"
   ]
  },
  {
   "cell_type": "code",
   "execution_count": 2,
   "metadata": {},
   "outputs": [
    {
     "data": {
      "text/html": [
       "<div>\n",
       "<style scoped>\n",
       "    .dataframe tbody tr th:only-of-type {\n",
       "        vertical-align: middle;\n",
       "    }\n",
       "\n",
       "    .dataframe tbody tr th {\n",
       "        vertical-align: top;\n",
       "    }\n",
       "\n",
       "    .dataframe thead th {\n",
       "        text-align: right;\n",
       "    }\n",
       "</style>\n",
       "<table border=\"1\" class=\"dataframe\">\n",
       "  <thead>\n",
       "    <tr style=\"text-align: right;\">\n",
       "      <th></th>\n",
       "      <th>id</th>\n",
       "      <th>review</th>\n",
       "      <th>rating</th>\n",
       "      <th>header</th>\n",
       "      <th>sub_header</th>\n",
       "      <th>author</th>\n",
       "      <th>time_published</th>\n",
       "      <th>Aircraft</th>\n",
       "      <th>Type Of Traveller</th>\n",
       "      <th>Seat Type</th>\n",
       "      <th>Route</th>\n",
       "      <th>Date Flown</th>\n",
       "      <th>Seat Comfort</th>\n",
       "      <th>Cabin Staff Service</th>\n",
       "      <th>Food &amp; Beverages</th>\n",
       "      <th>Ground Service</th>\n",
       "      <th>Value For Money</th>\n",
       "      <th>Recommended</th>\n",
       "      <th>Inflight Entertainment</th>\n",
       "      <th>Wifi &amp; Connectivity</th>\n",
       "    </tr>\n",
       "  </thead>\n",
       "  <tbody>\n",
       "    <tr>\n",
       "      <th>0</th>\n",
       "      <td>anchor817891</td>\n",
       "      <td>✅ Trip Verified |  Booked a BA holiday to Marr...</td>\n",
       "      <td>9/10</td>\n",
       "      <td>\"eventually make good on their promise\"</td>\n",
       "      <td>Ian Sinclair (United Kingdom) 30th November 2022</td>\n",
       "      <td>Ian Sinclair</td>\n",
       "      <td>30th November 2022</td>\n",
       "      <td>A320</td>\n",
       "      <td>Solo Leisure</td>\n",
       "      <td>Business Class</td>\n",
       "      <td>London to Marrakech</td>\n",
       "      <td>June 2022</td>\n",
       "      <td>3.0</td>\n",
       "      <td>5.0</td>\n",
       "      <td>5.0</td>\n",
       "      <td>4.0</td>\n",
       "      <td>3.0</td>\n",
       "      <td>yes</td>\n",
       "      <td>NaN</td>\n",
       "      <td>NaN</td>\n",
       "    </tr>\n",
       "    <tr>\n",
       "      <th>1</th>\n",
       "      <td>anchor817666</td>\n",
       "      <td>✅ Trip Verified | Extremely sub-par service. H...</td>\n",
       "      <td>2/10</td>\n",
       "      <td>\"Extremely sub-par service\"</td>\n",
       "      <td>S SI (United States) 28th November 2022</td>\n",
       "      <td>S SI</td>\n",
       "      <td>28th November 2022</td>\n",
       "      <td>A380</td>\n",
       "      <td>Solo Leisure</td>\n",
       "      <td>Economy Class</td>\n",
       "      <td>San Francisco to London</td>\n",
       "      <td>November 2022</td>\n",
       "      <td>2.0</td>\n",
       "      <td>1.0</td>\n",
       "      <td>2.0</td>\n",
       "      <td>3.0</td>\n",
       "      <td>2.0</td>\n",
       "      <td>no</td>\n",
       "      <td>2.0</td>\n",
       "      <td>1.0</td>\n",
       "    </tr>\n",
       "    <tr>\n",
       "      <th>2</th>\n",
       "      <td>anchor817196</td>\n",
       "      <td>✅ Trip Verified |  I virtually gave up on Brit...</td>\n",
       "      <td>7/10</td>\n",
       "      <td>\"the service was excellent\"</td>\n",
       "      <td>R Vines (United Kingdom) 26th November 2022</td>\n",
       "      <td>R Vines</td>\n",
       "      <td>26th November 2022</td>\n",
       "      <td>A320</td>\n",
       "      <td>Solo Leisure</td>\n",
       "      <td>Business Class</td>\n",
       "      <td>London to Lisbon</td>\n",
       "      <td>November 2022</td>\n",
       "      <td>3.0</td>\n",
       "      <td>4.0</td>\n",
       "      <td>4.0</td>\n",
       "      <td>3.0</td>\n",
       "      <td>3.0</td>\n",
       "      <td>yes</td>\n",
       "      <td>NaN</td>\n",
       "      <td>NaN</td>\n",
       "    </tr>\n",
       "  </tbody>\n",
       "</table>\n",
       "</div>"
      ],
      "text/plain": [
       "             id                                             review rating  \\\n",
       "0  anchor817891  ✅ Trip Verified |  Booked a BA holiday to Marr...   9/10   \n",
       "1  anchor817666  ✅ Trip Verified | Extremely sub-par service. H...   2/10   \n",
       "2  anchor817196  ✅ Trip Verified |  I virtually gave up on Brit...   7/10   \n",
       "\n",
       "                                    header  \\\n",
       "0  \"eventually make good on their promise\"   \n",
       "1              \"Extremely sub-par service\"   \n",
       "2              \"the service was excellent\"   \n",
       "\n",
       "                                         sub_header        author  \\\n",
       "0  Ian Sinclair (United Kingdom) 30th November 2022  Ian Sinclair   \n",
       "1           S SI (United States) 28th November 2022          S SI   \n",
       "2       R Vines (United Kingdom) 26th November 2022       R Vines   \n",
       "\n",
       "       time_published Aircraft Type Of Traveller       Seat Type  \\\n",
       "0  30th November 2022     A320      Solo Leisure  Business Class   \n",
       "1  28th November 2022     A380      Solo Leisure   Economy Class   \n",
       "2  26th November 2022     A320      Solo Leisure  Business Class   \n",
       "\n",
       "                     Route     Date Flown  Seat Comfort  Cabin Staff Service  \\\n",
       "0      London to Marrakech      June 2022           3.0                  5.0   \n",
       "1  San Francisco to London  November 2022           2.0                  1.0   \n",
       "2         London to Lisbon  November 2022           3.0                  4.0   \n",
       "\n",
       "   Food & Beverages  Ground Service  Value For Money Recommended  \\\n",
       "0               5.0             4.0              3.0         yes   \n",
       "1               2.0             3.0              2.0          no   \n",
       "2               4.0             3.0              3.0         yes   \n",
       "\n",
       "   Inflight Entertainment  Wifi & Connectivity  \n",
       "0                     NaN                  NaN  \n",
       "1                     2.0                  1.0  \n",
       "2                     NaN                  NaN  "
      ]
     },
     "execution_count": 2,
     "metadata": {},
     "output_type": "execute_result"
    }
   ],
   "source": [
    "df = pd.read_csv('..\\dataset\\dataframe_totpage_35.csv', sep=';')\n",
    "df.head(3)"
   ]
  },
  {
   "cell_type": "code",
   "execution_count": 4,
   "metadata": {},
   "outputs": [
    {
     "name": "stdout",
     "output_type": "stream",
     "text": [
      "<class 'pandas.core.frame.DataFrame'>\n",
      "RangeIndex: 3426 entries, 0 to 3425\n",
      "Data columns (total 20 columns):\n",
      " #   Column                  Non-Null Count  Dtype  \n",
      "---  ------                  --------------  -----  \n",
      " 0   id                      3426 non-null   object \n",
      " 1   review                  3426 non-null   object \n",
      " 2   rating                  3422 non-null   object \n",
      " 3   header                  3426 non-null   object \n",
      " 4   sub_header              3426 non-null   object \n",
      " 5   author                  3426 non-null   object \n",
      " 6   time_published          3426 non-null   object \n",
      " 7   Aircraft                1789 non-null   object \n",
      " 8   Type Of Traveller       2656 non-null   object \n",
      " 9   Seat Type               3424 non-null   object \n",
      " 10  Route                   2652 non-null   object \n",
      " 11  Date Flown              2648 non-null   object \n",
      " 12  Seat Comfort            3328 non-null   float64\n",
      " 13  Cabin Staff Service     3321 non-null   float64\n",
      " 14  Food & Beverages        3095 non-null   float64\n",
      " 15  Ground Service          2590 non-null   float64\n",
      " 16  Value For Money         3425 non-null   float64\n",
      " 17  Recommended             3426 non-null   object \n",
      " 18  Inflight Entertainment  2404 non-null   float64\n",
      " 19  Wifi & Connectivity     506 non-null    float64\n",
      "dtypes: float64(7), object(13)\n",
      "memory usage: 535.4+ KB\n"
     ]
    }
   ],
   "source": [
    "df.info()\n",
    "\n",
    "# Note:\n",
    "    # shape 3426, 20\n",
    "    # some features have null values\n",
    "\n",
    "# To do:\n",
    "    # convert col name to\n",
    "    # 'review' -> split verfied status & review\n",
    "    # 'rating' -> split and convert to float\n",
    "    # 'header' -> replace double quote\n",
    "    # 'sub_header' -> get the location \n",
    "    # 'Aircraft' -> check for 'A'"
   ]
  },
  {
   "cell_type": "code",
   "execution_count": 3,
   "metadata": {},
   "outputs": [],
   "source": [
    "def search_city(x):\n",
    "    try:\n",
    "        x = re.compile(r'\\(.*\\)').search(x).group()\n",
    "        x = x.replace('(','').replace(')','')\n",
    "    except Exception as e:\n",
    "        x = ''\n",
    "    return x\n",
    "\n",
    "df['verified'] = df['review'].apply(lambda x: x.split(' |')[0])\n",
    "df['verified'] = df['verified'].str.replace('✅ ','')\n",
    "df['rating_only'] = df['rating'].apply(lambda x: x.split('/')[0] if type(x)==type('a') else x)\n",
    "df['rating_only'] = df['rating_only'].astype('float')\n",
    "df['header'] = df['header'].str.replace('\"','')\n",
    "df['city'] = df['sub_header'].apply(lambda x: search_city(x))\n",
    "\n",
    "\n",
    "df.columns = [col_name.lower().replace(' ','_') for col_name in df.columns]"
   ]
  },
  {
   "cell_type": "code",
   "execution_count": 4,
   "metadata": {},
   "outputs": [],
   "source": [
    "def type_aircraft_search(x):\n",
    "    if type(x) == type('a'):\n",
    "        if ('A' in x) and ('Boeing' in x):\n",
    "            x = 'A / Boeing'\n",
    "        elif ('A' in x) or ('Boeing' in x):\n",
    "            if ('A' in x):\n",
    "                x = 'A'\n",
    "            else:\n",
    "                x = 'Boeing'\n",
    "        elif 'Embraer' in x:\n",
    "            x = 'Embraer'\n",
    "    return x\n",
    "        \n",
    "\n",
    "df['type_aircraft'] = df['aircraft'].apply(lambda x: type_aircraft_search(x))"
   ]
  },
  {
   "cell_type": "code",
   "execution_count": 7,
   "metadata": {},
   "outputs": [
    {
     "data": {
      "text/html": [
       "<div>\n",
       "<style scoped>\n",
       "    .dataframe tbody tr th:only-of-type {\n",
       "        vertical-align: middle;\n",
       "    }\n",
       "\n",
       "    .dataframe tbody tr th {\n",
       "        vertical-align: top;\n",
       "    }\n",
       "\n",
       "    .dataframe thead th {\n",
       "        text-align: right;\n",
       "    }\n",
       "</style>\n",
       "<table border=\"1\" class=\"dataframe\">\n",
       "  <thead>\n",
       "    <tr style=\"text-align: right;\">\n",
       "      <th></th>\n",
       "      <th>count</th>\n",
       "      <th>mean</th>\n",
       "      <th>std</th>\n",
       "      <th>min</th>\n",
       "      <th>25%</th>\n",
       "      <th>50%</th>\n",
       "      <th>75%</th>\n",
       "      <th>max</th>\n",
       "    </tr>\n",
       "  </thead>\n",
       "  <tbody>\n",
       "    <tr>\n",
       "      <th>seat_comfort</th>\n",
       "      <td>3328.0</td>\n",
       "      <td>2.906851</td>\n",
       "      <td>1.361050</td>\n",
       "      <td>1.0</td>\n",
       "      <td>2.0</td>\n",
       "      <td>3.0</td>\n",
       "      <td>4.0</td>\n",
       "      <td>5.0</td>\n",
       "    </tr>\n",
       "    <tr>\n",
       "      <th>cabin_staff_service</th>\n",
       "      <td>3321.0</td>\n",
       "      <td>3.281843</td>\n",
       "      <td>1.486100</td>\n",
       "      <td>1.0</td>\n",
       "      <td>2.0</td>\n",
       "      <td>4.0</td>\n",
       "      <td>5.0</td>\n",
       "      <td>5.0</td>\n",
       "    </tr>\n",
       "    <tr>\n",
       "      <th>food_&amp;_beverages</th>\n",
       "      <td>3095.0</td>\n",
       "      <td>2.744750</td>\n",
       "      <td>1.439847</td>\n",
       "      <td>1.0</td>\n",
       "      <td>1.0</td>\n",
       "      <td>3.0</td>\n",
       "      <td>4.0</td>\n",
       "      <td>5.0</td>\n",
       "    </tr>\n",
       "    <tr>\n",
       "      <th>ground_service</th>\n",
       "      <td>2590.0</td>\n",
       "      <td>2.846332</td>\n",
       "      <td>1.443522</td>\n",
       "      <td>1.0</td>\n",
       "      <td>1.0</td>\n",
       "      <td>3.0</td>\n",
       "      <td>4.0</td>\n",
       "      <td>5.0</td>\n",
       "    </tr>\n",
       "    <tr>\n",
       "      <th>value_for_money</th>\n",
       "      <td>3425.0</td>\n",
       "      <td>2.745693</td>\n",
       "      <td>1.466875</td>\n",
       "      <td>1.0</td>\n",
       "      <td>1.0</td>\n",
       "      <td>3.0</td>\n",
       "      <td>4.0</td>\n",
       "      <td>5.0</td>\n",
       "    </tr>\n",
       "    <tr>\n",
       "      <th>inflight_entertainment</th>\n",
       "      <td>2404.0</td>\n",
       "      <td>2.659734</td>\n",
       "      <td>1.397885</td>\n",
       "      <td>1.0</td>\n",
       "      <td>1.0</td>\n",
       "      <td>3.0</td>\n",
       "      <td>4.0</td>\n",
       "      <td>5.0</td>\n",
       "    </tr>\n",
       "    <tr>\n",
       "      <th>wifi_&amp;_connectivity</th>\n",
       "      <td>506.0</td>\n",
       "      <td>1.934783</td>\n",
       "      <td>1.356209</td>\n",
       "      <td>1.0</td>\n",
       "      <td>1.0</td>\n",
       "      <td>1.0</td>\n",
       "      <td>3.0</td>\n",
       "      <td>5.0</td>\n",
       "    </tr>\n",
       "    <tr>\n",
       "      <th>rating_only</th>\n",
       "      <td>3422.0</td>\n",
       "      <td>4.857978</td>\n",
       "      <td>3.164356</td>\n",
       "      <td>1.0</td>\n",
       "      <td>2.0</td>\n",
       "      <td>4.0</td>\n",
       "      <td>8.0</td>\n",
       "      <td>10.0</td>\n",
       "    </tr>\n",
       "  </tbody>\n",
       "</table>\n",
       "</div>"
      ],
      "text/plain": [
       "                         count      mean       std  min  25%  50%  75%   max\n",
       "seat_comfort            3328.0  2.906851  1.361050  1.0  2.0  3.0  4.0   5.0\n",
       "cabin_staff_service     3321.0  3.281843  1.486100  1.0  2.0  4.0  5.0   5.0\n",
       "food_&_beverages        3095.0  2.744750  1.439847  1.0  1.0  3.0  4.0   5.0\n",
       "ground_service          2590.0  2.846332  1.443522  1.0  1.0  3.0  4.0   5.0\n",
       "value_for_money         3425.0  2.745693  1.466875  1.0  1.0  3.0  4.0   5.0\n",
       "inflight_entertainment  2404.0  2.659734  1.397885  1.0  1.0  3.0  4.0   5.0\n",
       "wifi_&_connectivity      506.0  1.934783  1.356209  1.0  1.0  1.0  3.0   5.0\n",
       "rating_only             3422.0  4.857978  3.164356  1.0  2.0  4.0  8.0  10.0"
      ]
     },
     "execution_count": 7,
     "metadata": {},
     "output_type": "execute_result"
    }
   ],
   "source": [
    "df.describe(include='number').T\n",
    "\n",
    "# Note:\n",
    "    # Overall descriptive statistic of numerical features"
   ]
  },
  {
   "cell_type": "code",
   "execution_count": 8,
   "metadata": {},
   "outputs": [
    {
     "data": {
      "text/html": [
       "<div>\n",
       "<style scoped>\n",
       "    .dataframe tbody tr th:only-of-type {\n",
       "        vertical-align: middle;\n",
       "    }\n",
       "\n",
       "    .dataframe tbody tr th {\n",
       "        vertical-align: top;\n",
       "    }\n",
       "\n",
       "    .dataframe thead th {\n",
       "        text-align: right;\n",
       "    }\n",
       "</style>\n",
       "<table border=\"1\" class=\"dataframe\">\n",
       "  <thead>\n",
       "    <tr style=\"text-align: right;\">\n",
       "      <th></th>\n",
       "      <th>id</th>\n",
       "      <th>review</th>\n",
       "      <th>rating</th>\n",
       "      <th>header</th>\n",
       "      <th>sub_header</th>\n",
       "      <th>author</th>\n",
       "      <th>time_published</th>\n",
       "      <th>aircraft</th>\n",
       "      <th>type_of_traveller</th>\n",
       "      <th>seat_type</th>\n",
       "      <th>route</th>\n",
       "      <th>date_flown</th>\n",
       "      <th>recommended</th>\n",
       "      <th>verified</th>\n",
       "      <th>city</th>\n",
       "      <th>type_aircraft</th>\n",
       "    </tr>\n",
       "  </thead>\n",
       "  <tbody>\n",
       "    <tr>\n",
       "      <th>count</th>\n",
       "      <td>3426</td>\n",
       "      <td>3426</td>\n",
       "      <td>3422</td>\n",
       "      <td>3426</td>\n",
       "      <td>3426</td>\n",
       "      <td>3426</td>\n",
       "      <td>3426</td>\n",
       "      <td>1789</td>\n",
       "      <td>2656</td>\n",
       "      <td>3424</td>\n",
       "      <td>2652</td>\n",
       "      <td>2648</td>\n",
       "      <td>3426</td>\n",
       "      <td>3426</td>\n",
       "      <td>3426</td>\n",
       "      <td>1789</td>\n",
       "    </tr>\n",
       "    <tr>\n",
       "      <th>unique</th>\n",
       "      <td>3417</td>\n",
       "      <td>3415</td>\n",
       "      <td>10</td>\n",
       "      <td>2415</td>\n",
       "      <td>3309</td>\n",
       "      <td>2730</td>\n",
       "      <td>1636</td>\n",
       "      <td>189</td>\n",
       "      <td>4</td>\n",
       "      <td>4</td>\n",
       "      <td>1431</td>\n",
       "      <td>100</td>\n",
       "      <td>2</td>\n",
       "      <td>1518</td>\n",
       "      <td>70</td>\n",
       "      <td>25</td>\n",
       "    </tr>\n",
       "    <tr>\n",
       "      <th>top</th>\n",
       "      <td>anchor243835</td>\n",
       "      <td>Flown 6 flights on BA recently generally satis...</td>\n",
       "      <td>1/10</td>\n",
       "      <td>British Airways customer review</td>\n",
       "      <td>26 reviews C Fordham (United States) 8th Decem...</td>\n",
       "      <td>Clive Drake</td>\n",
       "      <td>19th January 2015</td>\n",
       "      <td>A320</td>\n",
       "      <td>Couple Leisure</td>\n",
       "      <td>Economy Class</td>\n",
       "      <td>London to Johannesburg</td>\n",
       "      <td>August 2015</td>\n",
       "      <td>no</td>\n",
       "      <td>Trip Verified</td>\n",
       "      <td>United Kingdom</td>\n",
       "      <td>Boeing</td>\n",
       "    </tr>\n",
       "    <tr>\n",
       "      <th>freq</th>\n",
       "      <td>2</td>\n",
       "      <td>2</td>\n",
       "      <td>741</td>\n",
       "      <td>956</td>\n",
       "      <td>4</td>\n",
       "      <td>32</td>\n",
       "      <td>26</td>\n",
       "      <td>326</td>\n",
       "      <td>896</td>\n",
       "      <td>1760</td>\n",
       "      <td>18</td>\n",
       "      <td>83</td>\n",
       "      <td>1984</td>\n",
       "      <td>948</td>\n",
       "      <td>2175</td>\n",
       "      <td>905</td>\n",
       "    </tr>\n",
       "  </tbody>\n",
       "</table>\n",
       "</div>"
      ],
      "text/plain": [
       "                  id                                             review  \\\n",
       "count           3426                                               3426   \n",
       "unique          3417                                               3415   \n",
       "top     anchor243835  Flown 6 flights on BA recently generally satis...   \n",
       "freq               2                                                  2   \n",
       "\n",
       "       rating                           header  \\\n",
       "count    3422                             3426   \n",
       "unique     10                             2415   \n",
       "top      1/10  British Airways customer review   \n",
       "freq      741                              956   \n",
       "\n",
       "                                               sub_header       author  \\\n",
       "count                                                3426         3426   \n",
       "unique                                               3309         2730   \n",
       "top     26 reviews C Fordham (United States) 8th Decem...  Clive Drake   \n",
       "freq                                                    4           32   \n",
       "\n",
       "           time_published aircraft type_of_traveller      seat_type  \\\n",
       "count                3426     1789              2656           3424   \n",
       "unique               1636      189                 4              4   \n",
       "top     19th January 2015     A320    Couple Leisure  Economy Class   \n",
       "freq                   26      326               896           1760   \n",
       "\n",
       "                         route   date_flown recommended       verified  \\\n",
       "count                     2652         2648        3426           3426   \n",
       "unique                    1431          100           2           1518   \n",
       "top     London to Johannesburg  August 2015          no  Trip Verified   \n",
       "freq                        18           83        1984            948   \n",
       "\n",
       "                  city type_aircraft  \n",
       "count             3426          1789  \n",
       "unique              70            25  \n",
       "top     United Kingdom        Boeing  \n",
       "freq              2175           905  "
      ]
     },
     "execution_count": 8,
     "metadata": {},
     "output_type": "execute_result"
    }
   ],
   "source": [
    "df.describe(exclude='number')\n",
    "\n",
    "# Note:\n",
    "    # Overall descriptive statistic of categorical features"
   ]
  },
  {
   "cell_type": "markdown",
   "metadata": {},
   "source": [
    "---  \n",
    "---  "
   ]
  },
  {
   "cell_type": "markdown",
   "metadata": {},
   "source": [
    "### Data Cleaning for `review`"
   ]
  },
  {
   "cell_type": "code",
   "execution_count": 7,
   "metadata": {
    "collapsed": true
   },
   "outputs": [
    {
     "data": {
      "text/plain": [
       "'✅ Trip Verified |  As a seasoned traveller and a loyal BA customer I am appalled at the company’s recent drop in standards. We were booked to fly from ZHR-LHR on a miles ticket in February 2022. When we arrived at check in several hours before our scheduled departure we were informed that we would have to pay for our baggage even though our ticket clearly included free checked baggage. We were held at check in for over an hour whilst the check in agent went to consult with her manager who then confirmed that we would have to pay to check in our baggage. We have no option but to pay this charge however as a result of this delay at check in arrived at the gate to find that our flight had closed. As this was the last flight of the day we were forced to find expensive overnight hotel accommodation. I tried contact BA Customer Services after this incident on numerous occasion however they didn’t bothered to respond. At the 3rd attempt, after I cc the CEO on my complaint I got a one line response saying that there was no free baggage included with our ticket. At this point I got my solicitor to write a letter and they finally agreed to refund my baggage charge. However they are refusing to compensate me for the missed flight and the considerable expenses and loss that I incurred as a result of their mistake.'"
      ]
     },
     "execution_count": 7,
     "metadata": {},
     "output_type": "execute_result"
    }
   ],
   "source": [
    "# check inside\n",
    "\n",
    "df['review'][100]"
   ]
  },
  {
   "cell_type": "code",
   "execution_count": 20,
   "metadata": {},
   "outputs": [],
   "source": [
    "# create functions for cleaning purposes\n",
    "\n",
    "def cleaning_text_round_1(text):\n",
    "    '''lowercase, remove punctuation, special character, words with number, '''\n",
    "    \n",
    "    text = text.lower()\n",
    "    text = re.compile(r'[%s]' % string.punctuation).sub('', text)\n",
    "    text = text.replace('✅ ','')\n",
    "    text = re.compile(r'\\w*\\d+\\w*').sub('', text)\n",
    "    return text\n",
    "\n",
    "\n",
    "def cleaning_text_round_2(text):\n",
    "    '''additional punctuation and non-sensical text'''\n",
    "    \n",
    "    text = re.sub('[‘’“”…]', '', text)\n",
    "    text = re.sub('\\n', '', text)\n",
    "    return text"
   ]
  },
  {
   "cell_type": "code",
   "execution_count": 13,
   "metadata": {},
   "outputs": [],
   "source": [
    "# applied the functions into review column\n",
    "\n",
    "df['review_clean'] = np.vectorize(cleaning_text_round_1)(df['review'])\n",
    "df['review_clean'] = np.vectorize(cleaning_text_round_2)(df['review_clean'])"
   ]
  },
  {
   "cell_type": "code",
   "execution_count": 19,
   "metadata": {},
   "outputs": [],
   "source": [
    "# pickle the review only\n",
    "\n",
    "!mkdir pickle_review\n",
    "\n",
    "pickle.dump(df['review_clean'], open('.\\\\pickle_review\\\\review.pkl', 'wb'))"
   ]
  },
  {
   "cell_type": "markdown",
   "metadata": {},
   "source": [
    "---  \n",
    "---  "
   ]
  },
  {
   "cell_type": "markdown",
   "metadata": {},
   "source": [
    "### Document-Term Matrix"
   ]
  },
  {
   "cell_type": "code",
   "execution_count": 6,
   "metadata": {},
   "outputs": [
    {
     "name": "stderr",
     "output_type": "stream",
     "text": [
      "C:\\Users\\ichfa\\anaconda3\\envs\\ml_env\\lib\\site-packages\\sklearn\\utils\\deprecation.py:87: FutureWarning: Function get_feature_names is deprecated; get_feature_names is deprecated in 1.0 and will be removed in 1.2. Please use get_feature_names_out instead.\n",
      "  warnings.warn(msg, category=FutureWarning)\n"
     ]
    },
    {
     "data": {
      "text/html": [
       "<div>\n",
       "<style scoped>\n",
       "    .dataframe tbody tr th:only-of-type {\n",
       "        vertical-align: middle;\n",
       "    }\n",
       "\n",
       "    .dataframe tbody tr th {\n",
       "        vertical-align: top;\n",
       "    }\n",
       "\n",
       "    .dataframe thead th {\n",
       "        text-align: right;\n",
       "    }\n",
       "</style>\n",
       "<table border=\"1\" class=\"dataframe\">\n",
       "  <thead>\n",
       "    <tr style=\"text-align: right;\">\n",
       "      <th></th>\n",
       "      <th>aa</th>\n",
       "      <th>aacx</th>\n",
       "      <th>ab</th>\n",
       "      <th>aback</th>\n",
       "      <th>abandon</th>\n",
       "      <th>abandondoned</th>\n",
       "      <th>abandoned</th>\n",
       "      <th>abandoning</th>\n",
       "      <th>abba</th>\n",
       "      <th>abbreviated</th>\n",
       "      <th>...</th>\n",
       "      <th>zipped</th>\n",
       "      <th>zombie</th>\n",
       "      <th>zone</th>\n",
       "      <th>zones</th>\n",
       "      <th>zoo</th>\n",
       "      <th>zrh</th>\n",
       "      <th>zrhlhr</th>\n",
       "      <th>zurich</th>\n",
       "      <th>zürich</th>\n",
       "      <th>álex</th>\n",
       "    </tr>\n",
       "  </thead>\n",
       "  <tbody>\n",
       "    <tr>\n",
       "      <th>0</th>\n",
       "      <td>0</td>\n",
       "      <td>0</td>\n",
       "      <td>0</td>\n",
       "      <td>0</td>\n",
       "      <td>0</td>\n",
       "      <td>0</td>\n",
       "      <td>0</td>\n",
       "      <td>0</td>\n",
       "      <td>0</td>\n",
       "      <td>0</td>\n",
       "      <td>...</td>\n",
       "      <td>0</td>\n",
       "      <td>0</td>\n",
       "      <td>0</td>\n",
       "      <td>0</td>\n",
       "      <td>0</td>\n",
       "      <td>0</td>\n",
       "      <td>0</td>\n",
       "      <td>0</td>\n",
       "      <td>0</td>\n",
       "      <td>0</td>\n",
       "    </tr>\n",
       "    <tr>\n",
       "      <th>1</th>\n",
       "      <td>0</td>\n",
       "      <td>0</td>\n",
       "      <td>0</td>\n",
       "      <td>0</td>\n",
       "      <td>0</td>\n",
       "      <td>0</td>\n",
       "      <td>0</td>\n",
       "      <td>0</td>\n",
       "      <td>0</td>\n",
       "      <td>0</td>\n",
       "      <td>...</td>\n",
       "      <td>0</td>\n",
       "      <td>0</td>\n",
       "      <td>0</td>\n",
       "      <td>0</td>\n",
       "      <td>0</td>\n",
       "      <td>0</td>\n",
       "      <td>0</td>\n",
       "      <td>0</td>\n",
       "      <td>0</td>\n",
       "      <td>0</td>\n",
       "    </tr>\n",
       "    <tr>\n",
       "      <th>2</th>\n",
       "      <td>0</td>\n",
       "      <td>0</td>\n",
       "      <td>0</td>\n",
       "      <td>0</td>\n",
       "      <td>0</td>\n",
       "      <td>0</td>\n",
       "      <td>0</td>\n",
       "      <td>0</td>\n",
       "      <td>0</td>\n",
       "      <td>0</td>\n",
       "      <td>...</td>\n",
       "      <td>0</td>\n",
       "      <td>0</td>\n",
       "      <td>0</td>\n",
       "      <td>0</td>\n",
       "      <td>0</td>\n",
       "      <td>0</td>\n",
       "      <td>0</td>\n",
       "      <td>0</td>\n",
       "      <td>0</td>\n",
       "      <td>0</td>\n",
       "    </tr>\n",
       "    <tr>\n",
       "      <th>3</th>\n",
       "      <td>0</td>\n",
       "      <td>0</td>\n",
       "      <td>0</td>\n",
       "      <td>0</td>\n",
       "      <td>0</td>\n",
       "      <td>0</td>\n",
       "      <td>0</td>\n",
       "      <td>0</td>\n",
       "      <td>0</td>\n",
       "      <td>0</td>\n",
       "      <td>...</td>\n",
       "      <td>0</td>\n",
       "      <td>0</td>\n",
       "      <td>0</td>\n",
       "      <td>0</td>\n",
       "      <td>0</td>\n",
       "      <td>0</td>\n",
       "      <td>0</td>\n",
       "      <td>0</td>\n",
       "      <td>0</td>\n",
       "      <td>0</td>\n",
       "    </tr>\n",
       "    <tr>\n",
       "      <th>4</th>\n",
       "      <td>0</td>\n",
       "      <td>0</td>\n",
       "      <td>0</td>\n",
       "      <td>0</td>\n",
       "      <td>0</td>\n",
       "      <td>0</td>\n",
       "      <td>0</td>\n",
       "      <td>0</td>\n",
       "      <td>0</td>\n",
       "      <td>0</td>\n",
       "      <td>...</td>\n",
       "      <td>0</td>\n",
       "      <td>0</td>\n",
       "      <td>0</td>\n",
       "      <td>0</td>\n",
       "      <td>0</td>\n",
       "      <td>0</td>\n",
       "      <td>0</td>\n",
       "      <td>0</td>\n",
       "      <td>0</td>\n",
       "      <td>0</td>\n",
       "    </tr>\n",
       "  </tbody>\n",
       "</table>\n",
       "<p>5 rows × 13271 columns</p>\n",
       "</div>"
      ],
      "text/plain": [
       "   aa  aacx  ab  aback  abandon  abandondoned  abandoned  abandoning  abba  \\\n",
       "0   0     0   0      0        0             0          0           0     0   \n",
       "1   0     0   0      0        0             0          0           0     0   \n",
       "2   0     0   0      0        0             0          0           0     0   \n",
       "3   0     0   0      0        0             0          0           0     0   \n",
       "4   0     0   0      0        0             0          0           0     0   \n",
       "\n",
       "   abbreviated  ...  zipped  zombie  zone  zones  zoo  zrh  zrhlhr  zurich  \\\n",
       "0            0  ...       0       0     0      0    0    0       0       0   \n",
       "1            0  ...       0       0     0      0    0    0       0       0   \n",
       "2            0  ...       0       0     0      0    0    0       0       0   \n",
       "3            0  ...       0       0     0      0    0    0       0       0   \n",
       "4            0  ...       0       0     0      0    0    0       0       0   \n",
       "\n",
       "   zürich  álex  \n",
       "0       0     0  \n",
       "1       0     0  \n",
       "2       0     0  \n",
       "3       0     0  \n",
       "4       0     0  \n",
       "\n",
       "[5 rows x 13271 columns]"
      ]
     },
     "execution_count": 6,
     "metadata": {},
     "output_type": "execute_result"
    }
   ],
   "source": [
    "review = pickle.load(open('.\\\\pickle_review\\\\review.pkl', 'rb'))\n",
    "\n",
    "cv = CountVectorizer(stop_words='english')\n",
    "data_cv = cv.fit_transform(review)\n",
    "data_dtm = pd.DataFrame(data_cv.toarray(), columns=cv.get_feature_names())\n",
    "data_dtm.head()"
   ]
  },
  {
   "cell_type": "code",
   "execution_count": 7,
   "metadata": {},
   "outputs": [],
   "source": [
    "pickle.dump(cv, open('.\\\\pickle_review\\\\cv.pkl', 'wb'))"
   ]
  },
  {
   "cell_type": "code",
   "execution_count": 2,
   "metadata": {},
   "outputs": [],
   "source": [
    "pickle.dump(data_dtm, open('.\\\\pickle_review\\\\dtm.pkl', 'wb'))\n",
    "dtm = pickle.load(open('.\\\\pickle_review\\\\dtm.pkl', 'rb'))"
   ]
  },
  {
   "cell_type": "markdown",
   "metadata": {},
   "source": [
    "---  \n",
    "---  "
   ]
  },
  {
   "cell_type": "markdown",
   "metadata": {},
   "source": [
    "### Exploratory Data Analysis"
   ]
  },
  {
   "cell_type": "code",
   "execution_count": 23,
   "metadata": {},
   "outputs": [],
   "source": [
    "# top 50 words\n",
    "\n",
    "word_count = {}\n",
    "for index, col in enumerate(data_dtm.columns):\n",
    "    word_count[index] = data_dtm[col].sum()"
   ]
  },
  {
   "cell_type": "code",
   "execution_count": 24,
   "metadata": {},
   "outputs": [],
   "source": [
    "word_count_df = pd.DataFrame(data= {'index': word_count.keys(), 'count': word_count.values()})\n",
    "word_count_df.sort_values('count', ascending=False, inplace=True)"
   ]
  },
  {
   "cell_type": "code",
   "execution_count": 25,
   "metadata": {},
   "outputs": [
    {
     "data": {
      "text/plain": [
       "array(['flight', 'ba', 'service', 'seat', 'food', 'london', 'crew',\n",
       "       'british', 'airways', 'seats', 'good', 'time', 'cabin', 'verified',\n",
       "       'class', 'staff', 'business', 'heathrow', 'trip', 'economy',\n",
       "       'flights', 'return', 'club', 'just', 'lounge', 'plane',\n",
       "       'passengers', 'hours', 'airline', 'boarding', 'did', 'review',\n",
       "       'new', 'experience', 'aircraft', 'check', 'fly', 'meal', 'hour',\n",
       "       'like', 'told', 'airlines', 'drinks', 'really', 'better',\n",
       "       'comfortable', 'long', 'premium', 'served', 'minutes'],\n",
       "      dtype=object)"
      ]
     },
     "execution_count": 25,
     "metadata": {},
     "output_type": "execute_result"
    }
   ],
   "source": [
    "np.array(data_dtm.columns)[word_count_df.head(50).index]"
   ]
  },
  {
   "cell_type": "code",
   "execution_count": 26,
   "metadata": {},
   "outputs": [
    {
     "data": {
      "image/png": "[encoded data removed]",
      "text/plain": [
       "<Figure size 640x480 with 1 Axes>"
      ]
     },
     "metadata": {},
     "output_type": "display_data"
    }
   ],
   "source": [
    "# wordcloud\n",
    "\n",
    "!mkdir pics\n",
    "\n",
    "wc = WordCloud(stopwords=text.ENGLISH_STOP_WORDS, \n",
    "               background_color=\"white\", \n",
    "               colormap=\"Dark2\",\n",
    "               max_font_size=150, \n",
    "               random_state=42)\n",
    "\n",
    "wc.generate(' '.join(list(review.values)))\n",
    "\n",
    "plt.imshow(wc, interpolation=\"bilinear\") \n",
    "plt.axis(\"off\")\n",
    "plt.savefig('.\\\\pics\\\\wordcloud.jpg')\n",
    "plt.show()"
   ]
  },
  {
   "cell_type": "markdown",
   "metadata": {},
   "source": [
    "---  \n",
    "---  "
   ]
  },
  {
   "cell_type": "markdown",
   "metadata": {},
   "source": [
    "### Sentiment Analysis"
   ]
  },
  {
   "cell_type": "code",
   "execution_count": 2,
   "metadata": {},
   "outputs": [
    {
     "data": {
      "text/plain": [
       "0    trip verified   booked a ba holiday to marrake...\n",
       "1    trip verified  extremely subpar service highli...\n",
       "2    trip verified   i virtually gave up on british...\n",
       "3    trip verified   i was pleasantly surprised tha...\n",
       "4    trip verified   british airways is late their ...\n",
       "Name: review_clean, dtype: object"
      ]
     },
     "execution_count": 2,
     "metadata": {},
     "output_type": "execute_result"
    }
   ],
   "source": [
    "review = pickle.load(open('.\\\\pickle_review\\\\review.pkl', 'rb'))\n",
    "review.head()"
   ]
  },
  {
   "cell_type": "code",
   "execution_count": 9,
   "metadata": {},
   "outputs": [
    {
     "data": {
      "text/html": [
       "<div>\n",
       "<style scoped>\n",
       "    .dataframe tbody tr th:only-of-type {\n",
       "        vertical-align: middle;\n",
       "    }\n",
       "\n",
       "    .dataframe tbody tr th {\n",
       "        vertical-align: top;\n",
       "    }\n",
       "\n",
       "    .dataframe thead th {\n",
       "        text-align: right;\n",
       "    }\n",
       "</style>\n",
       "<table border=\"1\" class=\"dataframe\">\n",
       "  <thead>\n",
       "    <tr style=\"text-align: right;\">\n",
       "      <th></th>\n",
       "      <th>review_clean</th>\n",
       "      <th>polarity</th>\n",
       "      <th>subjectivity</th>\n",
       "    </tr>\n",
       "  </thead>\n",
       "  <tbody>\n",
       "    <tr>\n",
       "      <th>0</th>\n",
       "      <td>trip verified   booked a ba holiday to marrake...</td>\n",
       "      <td>0.157273</td>\n",
       "      <td>0.357576</td>\n",
       "    </tr>\n",
       "    <tr>\n",
       "      <th>1</th>\n",
       "      <td>trip verified  extremely subpar service highli...</td>\n",
       "      <td>-0.025324</td>\n",
       "      <td>0.458519</td>\n",
       "    </tr>\n",
       "    <tr>\n",
       "      <th>2</th>\n",
       "      <td>trip verified   i virtually gave up on british...</td>\n",
       "      <td>0.370972</td>\n",
       "      <td>0.569861</td>\n",
       "    </tr>\n",
       "    <tr>\n",
       "      <th>3</th>\n",
       "      <td>trip verified   i was pleasantly surprised tha...</td>\n",
       "      <td>0.159470</td>\n",
       "      <td>0.619697</td>\n",
       "    </tr>\n",
       "    <tr>\n",
       "      <th>4</th>\n",
       "      <td>trip verified   british airways is late their ...</td>\n",
       "      <td>-0.157143</td>\n",
       "      <td>0.410714</td>\n",
       "    </tr>\n",
       "  </tbody>\n",
       "</table>\n",
       "</div>"
      ],
      "text/plain": [
       "                                        review_clean  polarity  subjectivity\n",
       "0  trip verified   booked a ba holiday to marrake...  0.157273      0.357576\n",
       "1  trip verified  extremely subpar service highli... -0.025324      0.458519\n",
       "2  trip verified   i virtually gave up on british...  0.370972      0.569861\n",
       "3  trip verified   i was pleasantly surprised tha...  0.159470      0.619697\n",
       "4  trip verified   british airways is late their ... -0.157143      0.410714"
      ]
     },
     "execution_count": 9,
     "metadata": {},
     "output_type": "execute_result"
    }
   ],
   "source": [
    "review = review.reset_index().drop('index', axis=1)\n",
    "\n",
    "pol = lambda x: TextBlob(x).sentiment.polarity\n",
    "sub = lambda x: TextBlob(x).sentiment.subjectivity\n",
    "\n",
    "review['polarity'] = review['review_clean'].apply(pol)\n",
    "review['subjectivity'] = review['review_clean'].apply(sub)\n",
    "review.head()"
   ]
  },
  {
   "cell_type": "code",
   "execution_count": 13,
   "metadata": {},
   "outputs": [
    {
     "data": {
      "text/html": [
       "<div>\n",
       "<style scoped>\n",
       "    .dataframe tbody tr th:only-of-type {\n",
       "        vertical-align: middle;\n",
       "    }\n",
       "\n",
       "    .dataframe tbody tr th {\n",
       "        vertical-align: top;\n",
       "    }\n",
       "\n",
       "    .dataframe thead th {\n",
       "        text-align: right;\n",
       "    }\n",
       "</style>\n",
       "<table border=\"1\" class=\"dataframe\">\n",
       "  <thead>\n",
       "    <tr style=\"text-align: right;\">\n",
       "      <th></th>\n",
       "      <th>polarity</th>\n",
       "      <th>subjectivity</th>\n",
       "    </tr>\n",
       "  </thead>\n",
       "  <tbody>\n",
       "    <tr>\n",
       "      <th>count</th>\n",
       "      <td>3426.000000</td>\n",
       "      <td>3426.000000</td>\n",
       "    </tr>\n",
       "    <tr>\n",
       "      <th>mean</th>\n",
       "      <td>0.096512</td>\n",
       "      <td>0.491335</td>\n",
       "    </tr>\n",
       "    <tr>\n",
       "      <th>std</th>\n",
       "      <td>0.177366</td>\n",
       "      <td>0.108249</td>\n",
       "    </tr>\n",
       "    <tr>\n",
       "      <th>min</th>\n",
       "      <td>-0.766667</td>\n",
       "      <td>0.000000</td>\n",
       "    </tr>\n",
       "    <tr>\n",
       "      <th>25%</th>\n",
       "      <td>-0.013972</td>\n",
       "      <td>0.426081</td>\n",
       "    </tr>\n",
       "    <tr>\n",
       "      <th>50%</th>\n",
       "      <td>0.085124</td>\n",
       "      <td>0.490341</td>\n",
       "    </tr>\n",
       "    <tr>\n",
       "      <th>75%</th>\n",
       "      <td>0.204261</td>\n",
       "      <td>0.554821</td>\n",
       "    </tr>\n",
       "    <tr>\n",
       "      <th>max</th>\n",
       "      <td>0.800000</td>\n",
       "      <td>1.000000</td>\n",
       "    </tr>\n",
       "  </tbody>\n",
       "</table>\n",
       "</div>"
      ],
      "text/plain": [
       "          polarity  subjectivity\n",
       "count  3426.000000   3426.000000\n",
       "mean      0.096512      0.491335\n",
       "std       0.177366      0.108249\n",
       "min      -0.766667      0.000000\n",
       "25%      -0.013972      0.426081\n",
       "50%       0.085124      0.490341\n",
       "75%       0.204261      0.554821\n",
       "max       0.800000      1.000000"
      ]
     },
     "execution_count": 13,
     "metadata": {},
     "output_type": "execute_result"
    }
   ],
   "source": [
    "# Polarity: How positive or negative a word is. -1 is very negative. +1 is very positive.\n",
    "# Subjectivity: How subjective, or opinionated a word is. 0 is fact. +1 is very much an opinion.\n",
    "\n",
    "review[['polarity','subjectivity']].describe()"
   ]
  },
  {
   "cell_type": "code",
   "execution_count": 11,
   "metadata": {},
   "outputs": [
    {
     "data": {
      "image/png": "[encoded data removed]",
      "text/plain": [
       "<Figure size 1500x600 with 1 Axes>"
      ]
     },
     "metadata": {},
     "output_type": "display_data"
    }
   ],
   "source": [
    "plt.figure(figsize=(15,6))\n",
    "\n",
    "sns.histplot(review['polarity'], color='gray')\n",
    "plt.show()"
   ]
  },
  {
   "cell_type": "code",
   "execution_count": 12,
   "metadata": {},
   "outputs": [
    {
     "data": {
      "image/png": "[encoded data removed]",
      "text/plain": [
       "<Figure size 1500x600 with 1 Axes>"
      ]
     },
     "metadata": {},
     "output_type": "display_data"
    }
   ],
   "source": [
    "plt.figure(figsize=(15,6))\n",
    "\n",
    "sns.histplot(review['subjectivity'], color='gray')\n",
    "plt.show()"
   ]
  },
  {
   "cell_type": "markdown",
   "metadata": {},
   "source": [
    "---  \n",
    "---  "
   ]
  },
  {
   "cell_type": "markdown",
   "metadata": {},
   "source": [
    "### Topic Modeling"
   ]
  },
  {
   "cell_type": "code",
   "execution_count": 3,
   "metadata": {},
   "outputs": [],
   "source": [
    "# from df --> sparse matrix --> gensim corpus\n",
    "\n",
    "sparse_counts = scipy.sparse.csr_matrix(dtm.T) # out: type -> scipy.sparse._csr.csr_matrix\n",
    "corpus = matutils.Sparse2Corpus(sparse_counts) # out: type -> gensim.matutils.Sparse2Corpus"
   ]
  },
  {
   "cell_type": "code",
   "execution_count": 9,
   "metadata": {},
   "outputs": [],
   "source": [
    "# Gensim also requires dictionary of the all terms and their respective location in the term-document matrix\n",
    "\n",
    "id2word = dict((v, k) for k, v in cv.vocabulary_.items())"
   ]
  },
  {
   "cell_type": "code",
   "execution_count": null,
   "metadata": {},
   "outputs": [],
   "source": [
    "# cv.vocabulary_.items() ### out: ('trip', 12180), ('verified', 12729)..."
   ]
  },
  {
   "cell_type": "code",
   "execution_count": null,
   "metadata": {},
   "outputs": [],
   "source": [
    "# id2word ### out: {12180: 'trip', 12729: 'verified', 1298: 'booked', ..."
   ]
  },
  {
   "cell_type": "code",
   "execution_count": 11,
   "metadata": {},
   "outputs": [
    {
     "data": {
      "text/plain": [
       "[(0,\n",
       "  '0.016*\"flight\" + 0.014*\"seat\" + 0.014*\"food\" + 0.013*\"class\" + 0.012*\"ba\" + 0.012*\"cabin\" + 0.012*\"economy\" + 0.011*\"service\" + 0.011*\"crew\" + 0.010*\"seats\"'),\n",
       " (1,\n",
       "  '0.032*\"flight\" + 0.013*\"good\" + 0.013*\"crew\" + 0.013*\"time\" + 0.011*\"ba\" + 0.011*\"service\" + 0.009*\"boarding\" + 0.008*\"cabin\" + 0.008*\"food\" + 0.008*\"heathrow\"'),\n",
       " (2,\n",
       "  '0.023*\"ba\" + 0.023*\"flight\" + 0.011*\"british\" + 0.011*\"airways\" + 0.009*\"seats\" + 0.009*\"london\" + 0.008*\"verified\" + 0.008*\"seat\" + 0.007*\"service\" + 0.006*\"airline\"'),\n",
       " (3,\n",
       "  '0.014*\"ba\" + 0.013*\"seat\" + 0.012*\"seats\" + 0.010*\"food\" + 0.010*\"service\" + 0.010*\"club\" + 0.009*\"good\" + 0.008*\"cabin\" + 0.007*\"class\" + 0.007*\"new\"')]"
      ]
     },
     "execution_count": 11,
     "metadata": {},
     "output_type": "execute_result"
    }
   ],
   "source": [
    "# Now that we have the corpus (term-document matrix) and id2word (dictionary of location: term),\n",
    "# we need to specify two other parameters as well - the number of topics and the number of passes\n",
    "\n",
    "lda = models.LdaModel(corpus=corpus, id2word=id2word, num_topics=4, passes=10)\n",
    "lda.print_topics()"
   ]
  },
  {
   "cell_type": "code",
   "execution_count": 12,
   "metadata": {},
   "outputs": [
    {
     "data": {
      "text/plain": [
       "[(0,\n",
       "  '0.022*\"flight\" + 0.013*\"good\" + 0.012*\"crew\" + 0.012*\"food\" + 0.012*\"ba\" + 0.011*\"seat\" + 0.011*\"cabin\" + 0.011*\"service\" + 0.010*\"seats\" + 0.008*\"time\"'),\n",
       " (1,\n",
       "  '0.033*\"flight\" + 0.017*\"ba\" + 0.009*\"british\" + 0.009*\"airways\" + 0.008*\"london\" + 0.008*\"told\" + 0.008*\"hours\" + 0.007*\"time\" + 0.007*\"verified\" + 0.006*\"staff\"'),\n",
       " (2,\n",
       "  '0.024*\"ba\" + 0.012*\"airways\" + 0.012*\"british\" + 0.012*\"service\" + 0.009*\"class\" + 0.009*\"london\" + 0.009*\"airline\" + 0.009*\"verified\" + 0.009*\"food\" + 0.009*\"business\"')]"
      ]
     },
     "execution_count": 12,
     "metadata": {},
     "output_type": "execute_result"
    }
   ],
   "source": [
    "lda = models.LdaModel(corpus=corpus, id2word=id2word, num_topics=3, passes=10)\n",
    "lda.print_topics()"
   ]
  },
  {
   "cell_type": "code",
   "execution_count": 13,
   "metadata": {},
   "outputs": [
    {
     "data": {
      "text/plain": [
       "[(0,\n",
       "  '0.016*\"flight\" + 0.014*\"ba\" + 0.014*\"seat\" + 0.012*\"food\" + 0.012*\"seats\" + 0.011*\"class\" + 0.010*\"service\" + 0.010*\"cabin\" + 0.009*\"business\" + 0.009*\"economy\"'),\n",
       " (1,\n",
       "  '0.029*\"flight\" + 0.017*\"ba\" + 0.010*\"time\" + 0.009*\"service\" + 0.008*\"london\" + 0.008*\"good\" + 0.007*\"crew\" + 0.007*\"british\" + 0.007*\"airways\" + 0.007*\"staff\"')]"
      ]
     },
     "execution_count": 13,
     "metadata": {},
     "output_type": "execute_result"
    }
   ],
   "source": [
    "lda = models.LdaModel(corpus=corpus, id2word=id2word, num_topics=2, passes=10)\n",
    "lda.print_topics()"
   ]
  },
  {
   "cell_type": "code",
   "execution_count": 14,
   "metadata": {},
   "outputs": [],
   "source": [
    "# Topic 1: overall flight experience\n",
    "# Topic 2: facilities (seat, food, class)"
   ]
  },
  {
   "cell_type": "code",
   "execution_count": null,
   "metadata": {},
   "outputs": [],
   "source": []
  }
 ],
 "metadata": {
  "kernelspec": {
   "display_name": "Python [conda env:ml_env]",
   "language": "python",
   "name": "conda-env-ml_env-py"
  },
  "language_info": {
   "codemirror_mode": {
    "name": "ipython",
    "version": 3
   },
   "file_extension": ".py",
   "mimetype": "text/x-python",
   "name": "python",
   "nbconvert_exporter": "python",
   "pygments_lexer": "ipython3",
   "version": "3.9.13"
  },
  "vscode": {
   "interpreter": {
    "hash": "74dc5d14eca5c1e866d6b421a7043edaf03bd8b4fa740d08c0685888d2ad6a2c"
   }
  }
 },
 "nbformat": 4,
 "nbformat_minor": 2
}
